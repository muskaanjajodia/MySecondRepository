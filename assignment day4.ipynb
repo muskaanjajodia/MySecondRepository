{
 "cells": [
  {
   "cell_type": "code",
   "execution_count": 1,
   "id": "5e95dea8",
   "metadata": {},
   "outputs": [],
   "source": [
    "def my_function(LetsUpgrade):\n",
    "    return LetsUpgrade[::-1]"
   ]
  },
  {
   "cell_type": "code",
   "execution_count": 2,
   "id": "bf494016",
   "metadata": {},
   "outputs": [],
   "source": [
    "mytxt=my_function(\"LetsUpgrade\")"
   ]
  },
  {
   "cell_type": "code",
   "execution_count": 3,
   "id": "62bbd6c7",
   "metadata": {},
   "outputs": [
    {
     "name": "stdout",
     "output_type": "stream",
     "text": [
      "edargpUsteL\n"
     ]
    }
   ],
   "source": [
    "print(mytxt)"
   ]
  },
  {
   "cell_type": "code",
   "execution_count": null,
   "id": "1c9e0707",
   "metadata": {},
   "outputs": [],
   "source": []
  }
 ],
 "metadata": {
  "kernelspec": {
   "display_name": "Python 3 (ipykernel)",
   "language": "python",
   "name": "python3"
  },
  "language_info": {
   "codemirror_mode": {
    "name": "ipython",
    "version": 3
   },
   "file_extension": ".py",
   "mimetype": "text/x-python",
   "name": "python",
   "nbconvert_exporter": "python",
   "pygments_lexer": "ipython3",
   "version": "3.9.12"
  }
 },
 "nbformat": 4,
 "nbformat_minor": 5
}
